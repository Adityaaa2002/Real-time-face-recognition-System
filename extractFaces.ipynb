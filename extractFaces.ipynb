{
 "cells": [
  {
   "cell_type": "markdown",
   "id": "4188e6b5",
   "metadata": {},
   "source": [
    "# 1. Importing modules"
   ]
  },
  {
   "cell_type": "code",
   "execution_count": 8,
   "id": "d0335865",
   "metadata": {},
   "outputs": [],
   "source": [
    "import cv2 # used to perform computer vision tasks\n",
    "import numpy as np # used to work with arrays\n",
    "import os # used to navigate through directories\n",
    "from facenet_pytorch.models.mtcnn import MTCNN #face-detection model\n",
    "import torch # helpful in building, training and using ML and DL models"
   ]
  },
  {
   "cell_type": "code",
   "execution_count": null,
   "id": "627fbec2",
   "metadata": {},
   "outputs": [
    {
     "name": "stdout",
     "output_type": "stream",
     "text": [
      "Found existing installation: facenet-pytorch 2.6.0\r\n",
      "Uninstalling facenet-pytorch-2.6.0:\r\n",
      "  Would remove:\r\n",
      "    /home/mukesh/.local/lib/python3.10/site-packages/facenet_pytorch-2.6.0.dist-info/*\r\n",
      "    /home/mukesh/.local/lib/python3.10/site-packages/facenet_pytorch/*\r\n",
      "Proceed (Y/n)? "
     ]
    }
   ],
   "source": [
    "pip uninstall facenet-pytorch"
   ]
  },
  {
   "cell_type": "markdown",
   "id": "46e60288",
   "metadata": {},
   "source": [
    "# 2. Setting up face-detection model"
   ]
  },
  {
   "cell_type": "code",
   "execution_count": 9,
   "id": "d6cf2d60",
   "metadata": {},
   "outputs": [],
   "source": [
    "device = torch.device('cuda:0' if torch.cuda.is_available() else 'cpu')\n",
    "# sets 'GPU' or 'CPU' based on the hardware availability\n",
    "mtcnn = MTCNN(keep_all = True, device = device)\n",
    "# Multi-task Cascaded Convolution Neural Networks.\n",
    "# keep_all parameter retains all detected faces and facial landmarks in the output"
   ]
  },
  {
   "cell_type": "code",
   "execution_count": 10,
   "id": "6f32cf36",
   "metadata": {},
   "outputs": [],
   "source": [
    "def mtcnn_detect(img: np.ndarray) -> np.ndarray:\n",
    "    boxes, probs = mtcnn.detect(img)\n",
    "#     boxes = bounding boxes around an image, probs = the confidence score of it being a face\n",
    "    img = []\n",
    "    \n",
    "    if boxes is not None:\n",
    "        for box in boxes :\n",
    "            x_left = int(min(box[0], box[2]))\n",
    "            x_right = int(max(box[0], box[2]))\n",
    "            y_left = int(min(box[1], box[3]))\n",
    "            y_right = int(max(box[1], box[3]))\n",
    "            img.append([x_left, y_left, x_right, y_right])\n",
    "            \n",
    "    # returning the collection of detected faces along with their confidence scores\n",
    "    return (img, probs)"
   ]
  },
  {
   "cell_type": "markdown",
   "id": "6bbc0e4f",
   "metadata": {},
   "source": [
    "# 3. Creating new directory for new dataset"
   ]
  },
  {
   "cell_type": "code",
   "execution_count": 11,
   "id": "1f90ccc0",
   "metadata": {},
   "outputs": [
    {
     "name": "stdout",
     "output_type": "stream",
     "text": [
      "Enter the person name : lucky\n",
      "Folder lucky created!\n"
     ]
    }
   ],
   "source": [
    "# Creating a new directory\n",
    "folderName = input(\"Enter the person name : \")\n",
    "path = os.path.join('Datasets', folderName)\n",
    "\n",
    "# check whether directory already exists\n",
    "if not os.path.exists(path):\n",
    "  os.mkdir(path)\n",
    "  print(f\"Folder {folderName} created!\")\n",
    "else:\n",
    "  print(f\"Folder {folderName} already exists!\")"
   ]
  },
  {
   "cell_type": "markdown",
   "id": "0f76a60e",
   "metadata": {},
   "source": [
    "# 4. Collecting faces through webcam/video"
   ]
  },
  {
   "cell_type": "code",
   "execution_count": 12,
   "id": "d62980ec",
   "metadata": {
    "scrolled": false
   },
   "outputs": [
    {
     "name": "stderr",
     "output_type": "stream",
     "text": [
      "Warning: Ignoring XDG_SESSION_TYPE=wayland on Gnome. Use QT_QPA_PLATFORM=wayland to run on Wayland anyway.\n"
     ]
    }
   ],
   "source": [
    "cap = cv2.VideoCapture(0) # 0=camera | videofile also accepted(just give the name)\n",
    "cnt = 0\n",
    "\n",
    "while True:\n",
    "    ret, frame = cap.read()\n",
    "    \n",
    "    if(ret == False):\n",
    "        print(\"Not able to read image...Exiting...\")\n",
    "        exit()\n",
    "    else:\n",
    "        facesBoxes, confidenceScores = mtcnn_detect(frame)\n",
    "        \n",
    "        text = str(cnt)\n",
    "        textColor = (0, 255, 0)\n",
    "        if(len(facesBoxes) == 0):\n",
    "            text = \"No faces found !\"\n",
    "            textColor = (0, 0, 255)\n",
    "        elif(len(facesBoxes) > 1):\n",
    "            text = \"Only one person at a time !\"\n",
    "            textColor = (0, 0, 255)\n",
    "        else:\n",
    "            for faceBox, score in zip(facesBoxes, confidenceScores):\n",
    "                if(score >= 0.95):\n",
    "                    cnt += 1\n",
    "                    \n",
    "                    x_left, y_left, x_right, y_right = faceBox\n",
    "                    \n",
    "                    croppedImg = frame[y_left:y_right, x_left:x_right]\n",
    "                    croppedImg = cv2.resize(croppedImg, (224, 224))\n",
    "                    imgPath = os.path.join(path, (str(cnt)+\".jpg\"))\n",
    "                    cv2.imwrite(imgPath, croppedImg)\n",
    "                    \n",
    "                    cv2.rectangle(frame, (x_left, y_left), (x_right, y_right), (0, 255, 0), 2)\n",
    "    \n",
    "        cv2.putText(frame, text, (50, 50), cv2.FONT_HERSHEY_COMPLEX, 1, textColor, 2)\n",
    "        cv2.imshow(\"Video\", frame)\n",
    "        \n",
    "    if(cv2.waitKey(1) == ord('q') or cnt >= 100):\n",
    "        break\n",
    "        \n",
    "cap.release()\n",
    "cv2.destroyAllWindows()"
   ]
  },
  {
   "cell_type": "code",
   "execution_count": 13,
   "id": "b62904ce",
   "metadata": {},
   "outputs": [],
   "source": [
    "# In case the video window is not closed run this cell\n",
    "cap.release()\n",
    "cv2.destroyAllWindows()"
   ]
  },
  {
   "cell_type": "code",
   "execution_count": null,
   "id": "36af0eff",
   "metadata": {},
   "outputs": [],
   "source": []
  }
 ],
 "metadata": {
  "kernelspec": {
   "display_name": "miniProject",
   "language": "python",
   "name": "miniproject"
  },
  "language_info": {
   "codemirror_mode": {
    "name": "ipython",
    "version": 3
   },
   "file_extension": ".py",
   "mimetype": "text/x-python",
   "name": "python",
   "nbconvert_exporter": "python",
   "pygments_lexer": "ipython3",
   "version": "3.10.12"
  }
 },
 "nbformat": 4,
 "nbformat_minor": 5
}
